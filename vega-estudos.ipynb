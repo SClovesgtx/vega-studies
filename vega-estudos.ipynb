{
 "cells": [
  {
   "cell_type": "markdown",
   "metadata": {},
   "source": [
    "# Gráfico de Barras\n",
    "\n",
    "Começando pelo básico.\n",
    "\n",
    "Ver [exemplo](https://vega.github.io/vega/examples/bar-chart/)"
   ]
  },
  {
   "cell_type": "code",
   "execution_count": 3,
   "metadata": {},
   "outputs": [],
   "source": [
    "from vega import Vega"
   ]
  },
  {
   "cell_type": "code",
   "execution_count": 4,
   "metadata": {},
   "outputs": [
    {
     "data": {
      "application/javascript": [
       "const spec = {\"$schema\": \"https://vega.github.io/schema/vega/v5.json\", \"description\": \"Gr\\u00e1fico de barras iterativo\", \"width\": 400, \"height\": 200, \"padding\": 5, \"data\": [{\"name\": \"Minha_Tabela\", \"values\": [{\"categoria\": \"A\", \"quantidade\": 30}, {\"categoria\": \"B\", \"quantidade\": 20}, {\"categoria\": \"C\", \"quantidade\": 15}, {\"categoria\": \"D\", \"quantidade\": 30}, {\"categoria\": \"E\", \"quantidade\": 25}, {\"categoria\": \"F\", \"quantidade\": 10}]}], \"signals\": [{\"name\": \"tooltip\", \"description\": \"Quando mause passar em cima da barra a cor ficar\\u00e1 vermelha e aparecer\\u00e1 o valor em cima da barra\", \"value\": {}, \"on\": [{\"events\": \"rect:mouseover\", \"update\": \"datum\"}, {\"events\": \"rect:mouseout\", \"update\": \"{}\"}]}], \"scales\": [{\"name\": \"xscale\", \"type\": \"band\", \"domain\": {\"data\": \"Minha_Tabela\", \"field\": \"categoria\"}, \"range\": \"width\", \"padding\": 0.05, \"round\": true}, {\"name\": \"yscale\", \"domain\": {\"data\": \"Minha_Tabela\", \"field\": \"quantidade\"}, \"nice\": true, \"range\": \"height\"}], \"axes\": [{\"orient\": \"bottom\", \"scale\": \"xscale\"}, {\"orient\": \"left\", \"scale\": \"yscale\"}], \"marks\": [{\"type\": \"rect\", \"from\": {\"data\": \"Minha_Tabela\"}, \"encode\": {\"enter\": {\"x\": {\"scale\": \"xscale\", \"field\": \"categoria\"}, \"width\": {\"scale\": \"xscale\", \"band\": 1}, \"y\": {\"scale\": \"yscale\", \"field\": \"quantidade\"}, \"y2\": {\"scale\": \"yscale\", \"value\": 0}}, \"update\": {\"fill\": {\"value\": \"steelblue\"}}, \"hover\": {\"fill\": {\"value\": \"#5AF9FE\"}}}}, {\"type\": \"text\", \"encode\": {\"enter\": {\"align\": {\"value\": \"center\"}, \"baseline\": {\"value\": \"bottom\"}, \"fill\": {\"value\": \"#333\"}}, \"update\": {\"x\": {\"scale\": \"xscale\", \"signal\": \"tooltip.categoria\", \"band\": 0.5}, \"y\": {\"scale\": \"yscale\", \"signal\": \"tooltip.quantidade\", \"offset\": -2}, \"text\": {\"signal\": \"tooltip.quantidade\"}, \"fillOpacity\": [{\"test\": \"datum === tooltip\", \"value\": 0}, {\"value\": 1}]}}}]};\n",
       "const opt = {};\n",
       "const type = \"vega\";\n",
       "const id = \"7a5297d3-d97e-483c-a20e-a19ac2d1e4cc\";\n",
       "\n",
       "const output_area = this;\n",
       "\n",
       "require([\"nbextensions/jupyter-vega/index\"], function(vega) {\n",
       "  const target = document.createElement(\"div\");\n",
       "  target.id = id;\n",
       "  target.className = \"vega-embed\";\n",
       "\n",
       "  const style = document.createElement(\"style\");\n",
       "  style.textContent = [\n",
       "    \".vega-embed .error p {\",\n",
       "    \"  color: firebrick;\",\n",
       "    \"  font-size: 14px;\",\n",
       "    \"}\",\n",
       "  ].join(\"\\\\n\");\n",
       "\n",
       "  // element is a jQuery wrapped DOM element inside the output area\n",
       "  // see http://ipython.readthedocs.io/en/stable/api/generated/\\\n",
       "  // IPython.display.html#IPython.display.Javascript.__init__\n",
       "  element[0].appendChild(target);\n",
       "  element[0].appendChild(style);\n",
       "\n",
       "  vega.render(\"#\" + id, spec, type, opt, output_area);\n",
       "}, function (err) {\n",
       "  if (err.requireType !== \"scripterror\") {\n",
       "    throw(err);\n",
       "  }\n",
       "});\n"
      ],
      "text/plain": [
       "<vega.vega.Vega at 0x7fa97817afd0>"
      ]
     },
     "execution_count": 4,
     "metadata": {
      "jupyter-vega": "#7a5297d3-d97e-483c-a20e-a19ac2d1e4cc"
     },
     "output_type": "execute_result"
    },
    {
     "data": {
      "image/png": "[encoded data removed]"
     },
     "metadata": {
      "jupyter-vega": "#7a5297d3-d97e-483c-a20e-a19ac2d1e4cc"
     },
     "output_type": "display_data"
    }
   ],
   "source": [
    "view = {\n",
    "  \"$schema\": \"https://vega.github.io/schema/vega/v5.json\",\n",
    "  \"description\": \"Gráfico de barras iterativo\",\n",
    "  \"width\": 400, # nº de pixels\n",
    "  \"height\": 200,\n",
    "  \"padding\": 5,\n",
    "  \"data\": [\n",
    "        {\n",
    "        \"name\": \"Minha_Tabela\",\n",
    "        \"values\": [\n",
    "          {\"categoria\": \"A\", \"quantidade\": 30},\n",
    "          {\"categoria\": \"B\", \"quantidade\": 20},\n",
    "          {\"categoria\": \"C\", \"quantidade\": 15},\n",
    "          {\"categoria\": \"D\", \"quantidade\": 30},\n",
    "          {\"categoria\": \"E\", \"quantidade\": 25},\n",
    "          {\"categoria\": \"F\", \"quantidade\": 10}\n",
    "        ]\n",
    "      }\n",
    "  ],\n",
    "\n",
    "  \"signals\": [\n",
    "    {\n",
    "      \"name\": \"tooltip\",\n",
    "      \"description\": \"Quando mause passar em cima da barra a cor ficará vermelha e aparecerá o valor em cima da barra\",\n",
    "      \"value\": {},\n",
    "      \"on\": [\n",
    "          {\"events\": \"rect:mouseover\", \"update\": \"datum\"},\n",
    "          {\"events\": \"rect:mouseout\", \"update\": \"{}\"}\n",
    "      ]\n",
    "    }\n",
    "  ],\n",
    "\n",
    "  \"scales\": [\n",
    "    {\n",
    "      \"name\": \"xscale\",\n",
    "      \"type\": \"band\",\n",
    "      \"domain\":{\"data\": \"Minha_Tabela\", \"field\": \"categoria\" },\n",
    "      \"range\": \"width\",\n",
    "      \"padding\": 0.05,\n",
    "      \"round\": True\n",
    "    },\n",
    "    {\n",
    "      \"name\": \"yscale\",\n",
    "      \"domain\": {\"data\": \"Minha_Tabela\", \"field\": \"quantidade\"},\n",
    "      \"nice\": True,\n",
    "      \"range\": \"height\"\n",
    "    }\n",
    "  ],\n",
    "\n",
    "  \"axes\": [\n",
    "    {\"orient\": \"bottom\", \"scale\": \"xscale\"},\n",
    "    {\"orient\": \"left\", \"scale\": \"yscale\"}\n",
    "  ],\n",
    "\n",
    "  \"marks\": [\n",
    "    {\n",
    "      \"type\": \"rect\",\n",
    "      \"from\": {\"data\": \"Minha_Tabela\"},\n",
    "      \"encode\": {\n",
    "        \"enter\": {\n",
    "          \"x\": {\"scale\": \"xscale\", \"field\": \"categoria\"},\n",
    "          \"width\": {\"scale\": \"xscale\", \"band\": 1},\n",
    "          \"y\": {\"scale\": \"yscale\", \"field\": \"quantidade\"},\n",
    "          \"y2\": {\"scale\": \"yscale\", \"value\": 0}\n",
    "        },\n",
    "        \"update\": {\n",
    "          \"fill\": {\"value\": \"steelblue\"}\n",
    "        },\n",
    "        \"hover\": {\n",
    "          \"fill\": {\"value\": \"#5AF9FE\"}\n",
    "        }\n",
    "      }\n",
    "    },\n",
    "\n",
    "    {\n",
    "      \"type\": \"text\",\n",
    "      \"encode\":{\n",
    "        \"enter\": {\n",
    "          \"align\": {\"value\": \"center\"},\n",
    "          \"baseline\": {\"value\": \"bottom\"},\n",
    "          \"fill\":{\"value\": \"#333\"}\n",
    "        },\n",
    "        \"update\": {\n",
    "          \"x\": {\"scale\": \"xscale\", \"signal\": \"tooltip.categoria\", \"band\": 0.5},\n",
    "          \"y\": {\"scale\": \"yscale\", \"signal\": \"tooltip.quantidade\", \"offset\": -2},\n",
    "          \"text\": {\"signal\": \"tooltip.quantidade\"},\n",
    "          \"fillOpacity\": [\n",
    "            {\"test\": \"datum === tooltip\", \"value\": 0},\n",
    "            {\"value\": 1}\n",
    "          ]\n",
    "        }\n",
    "      }\n",
    "    }\n",
    "\n",
    "  ]\n",
    "}\n",
    "\n",
    "\n",
    "Vega(view)"
   ]
  },
  {
   "cell_type": "code",
   "execution_count": null,
   "metadata": {},
   "outputs": [],
   "source": []
  }
 ],
 "metadata": {
  "kernelspec": {
   "display_name": "Python 3",
   "language": "python",
   "name": "python3"
  },
  "language_info": {
   "codemirror_mode": {
    "name": "ipython",
    "version": 3
   },
   "file_extension": ".py",
   "mimetype": "text/x-python",
   "name": "python",
   "nbconvert_exporter": "python",
   "pygments_lexer": "ipython3",
   "version": "3.6.9"
  }
 },
 "nbformat": 4,
 "nbformat_minor": 4
}
